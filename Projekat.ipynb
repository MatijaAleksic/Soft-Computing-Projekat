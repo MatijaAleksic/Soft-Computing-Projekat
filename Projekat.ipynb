{
 "cells": [
  {
   "cell_type": "code",
   "execution_count": 5,
   "metadata": {},
   "outputs": [],
   "source": [
    "import numpy as np\n",
    "import cv2\n",
    "from sklearn import datasets\n",
    "import sklearn.datasets\n",
    "import matplotlib.pyplot as plt\n",
    "%matplotlib inline"
   ]
  },
  {
   "cell_type": "code",
   "execution_count": 221,
   "metadata": {},
   "outputs": [],
   "source": [
    "def detekcija_ivice_platoa(img):\n",
    "    gray_img = cv2.cvtColor(img, cv2.COLOR_BGR2GRAY);\n",
    "\n",
    "    rame_thresh = cv2.adaptiveThreshold(gray_img, 255, cv2.ADAPTIVE_THRESH_MEAN_C, cv2.THRESH_BINARY, 35, 10)\n",
    "    ret, frame_thresh = cv2.threshold(gray_img, 108, 255, cv2.THRESH_BINARY)\n",
    "    \n",
    "#     plt.figure()\n",
    "#     plt.imshow(frame_thresh, 'gray')\n",
    "    \n",
    "    dialated_iter1 = dilate(frame_thresh)\n",
    "    dialated_iter2 = dilate(dialated_iter1)\n",
    "    eroded_iter1 = erode(dialated_iter2)\n",
    "    \n",
    "#     plt.imshow(eroded_iter1, 'gray')\n",
    "#     plt.show()\n",
    "\n",
    "    edges_img = cv2.Canny(eroded_iter1, 50, 100, apertureSize=3)\n",
    "    # minimalna duzina linije\n",
    "    min_line_length = 300\n",
    "    # Hough transformacija\n",
    "    lines = cv2.HoughLinesP(image=edges_img, rho=1, theta=np.pi/180, threshold=50, lines=np.array([]),\n",
    "                            minLineLength=min_line_length, maxLineGap=17)\n",
    "    # Detektovane linije [[x1 y1 x2 y2]]:\n",
    "    for i in range(len(lines)):\n",
    "        cv2.line(edges_img, (lines[i][0][0], lines[i][0][1]), (lines[i][0][2], lines[i][0][3]), (255,0,0), 5);\n",
    "\n",
    "    plt.figure()\n",
    "    plt.imshow(edges_img, 'gray')\n",
    "    plt.show()\n",
    "    \n",
    "    x1 = lines[0][0][0] \n",
    "    y1 = 480 - lines[0][0][1]\n",
    "    x2 = lines[0][0][2]\n",
    "    y2 = 480 - lines[0][0][3]\n",
    "    return (x1, y1, x2, y2)"
   ]
  },
  {
   "cell_type": "code",
   "execution_count": 222,
   "metadata": {},
   "outputs": [],
   "source": [
    "def dilate(image):\n",
    "    kernel = np.ones((3, 3)) # strukturni element 3x3 blok\n",
    "    return cv2.dilate(image, kernel, iterations=1)\n",
    "\n",
    "def erode(image):\n",
    "    kernel = np.ones((3, 3)) # strukturni element 3x3 blok\n",
    "    return cv2.erode(image, kernel, iterations=1)"
   ]
  },
  {
   "cell_type": "code",
   "execution_count": 223,
   "metadata": {},
   "outputs": [
    {
     "data": {
      "image/png": "[encoded data removed]",
      "text/plain": [
       "<Figure size 432x288 with 1 Axes>"
      ]
     },
     "metadata": {},
     "output_type": "display_data"
    },
    {
     "name": "stdout",
     "output_type": "stream",
     "text": [
      "(184, 370, 519, 394)\n"
     ]
    }
   ],
   "source": [
    "#SAMO UZIMA PRVI FREJM\n",
    "vid_name = \"data/videos/video1.mp4\"\n",
    "capture = cv2.VideoCapture(vid_name)\n",
    "capture.set(1, 0) # indeksiranje frejmova\n",
    "ret_val, frame = capture.read()\n",
    "\n",
    "print(detekcija_ivice_platoa(frame))"
   ]
  },
  {
   "cell_type": "code",
   "execution_count": null,
   "metadata": {},
   "outputs": [],
   "source": []
  }
 ],
 "metadata": {
  "kernelspec": {
   "display_name": "Python 3",
   "language": "python",
   "name": "python3"
  },
  "language_info": {
   "codemirror_mode": {
    "name": "ipython",
    "version": 3
   },
   "file_extension": ".py",
   "mimetype": "text/x-python",
   "name": "python",
   "nbconvert_exporter": "python",
   "pygments_lexer": "ipython3",
   "version": "3.6.5"
  }
 },
 "nbformat": 4,
 "nbformat_minor": 2
}
