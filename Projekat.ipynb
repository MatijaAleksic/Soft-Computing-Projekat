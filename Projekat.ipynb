{
 "cells": [
  {
   "cell_type": "code",
   "execution_count": 266,
   "metadata": {},
   "outputs": [],
   "source": [
    "import numpy as np\n",
    "import cv2\n",
    "from sklearn import datasets\n",
    "import sklearn.datasets\n",
    "import matplotlib.pyplot as plt\n",
    "%matplotlib inline\n",
    "from sklearn.metrics import mean_absolute_error"
   ]
  },
  {
   "cell_type": "code",
   "execution_count": 267,
   "metadata": {},
   "outputs": [],
   "source": [
    "def detekcija_ivice_platoa(img):\n",
    "    gray_img = cv2.cvtColor(img, cv2.COLOR_BGR2GRAY);\n",
    "    ret, frame_thresh = cv2.threshold(gray_img, 108, 255, cv2.THRESH_BINARY)\n",
    "    \n",
    "#     plt.figure()\n",
    "#     plt.imshow(frame_thresh, 'gray')\n",
    "    \n",
    "    dialated_iter1 = dilate(frame_thresh)\n",
    "    dialated_iter2 = dilate(dialated_iter1)\n",
    "    eroded_iter1 = erode(dialated_iter2)\n",
    "    \n",
    "#     plt.imshow(eroded_iter1, 'gray')\n",
    "#     plt.show()\n",
    "\n",
    "    edges_img = cv2.Canny(eroded_iter1, 50, 100, apertureSize=3)\n",
    "    # minimalna duzina linije\n",
    "    min_line_length = 300\n",
    "    # Hough transformacija\n",
    "    lines = cv2.HoughLinesP(image=edges_img, rho=1, theta=np.pi/180, threshold=50, lines=np.array([]),\n",
    "                            minLineLength=min_line_length, maxLineGap=17)\n",
    "    # Detektovane linije [[x1 y1 x2 y2]]:\n",
    "    for i in range(len(lines)):\n",
    "        cv2.line(edges_img, (lines[i][0][0], lines[i][0][1]), (lines[i][0][2], lines[i][0][3]), (255,0,0), 5);\n",
    "\n",
    "#     plt.figure()\n",
    "#     plt.imshow(edges_img, 'gray')\n",
    "#     plt.show()\n",
    "    \n",
    "    x1 = lines[0][0][0] - 10\n",
    "    y1 = lines[0][0][1]\n",
    "    x2 = lines[0][0][2]\n",
    "    y2 = lines[0][0][3]\n",
    "    return (x1, y1, x2, y2)"
   ]
  },
  {
   "cell_type": "code",
   "execution_count": 268,
   "metadata": {},
   "outputs": [],
   "source": [
    "def dilate(image):\n",
    "    kernel = np.ones((3, 3)) # strukturni element 3x3 blok\n",
    "    return cv2.dilate(image, kernel, iterations=1)\n",
    "\n",
    "def erode(image):\n",
    "    kernel = np.ones((3, 3)) # strukturni element 3x3 blok\n",
    "    return cv2.erode(image, kernel, iterations=1)"
   ]
  },
  {
   "cell_type": "code",
   "execution_count": 269,
   "metadata": {},
   "outputs": [],
   "source": [
    "def detect_cross(x, y, k, n):\n",
    "    # detekcija da li je broj presao preko linije\n",
    "    yy = k*x + n\n",
    "    return -1 <= (yy - y) <= 1\n",
    "\n",
    "def return_mae(given, final):\n",
    "    mae = mean_absolute_error(given, final)\n",
    "    return mae"
   ]
  },
  {
   "cell_type": "code",
   "execution_count": 270,
   "metadata": {},
   "outputs": [],
   "source": [
    "def prebroj_ljude(index, line):\n",
    "    \n",
    "    path = \"data/videos/video\" + str(index) + \".mp4\";\n",
    "    capture = cv2.VideoCapture(path)\n",
    "    init_frame = None\n",
    "    \n",
    "    brojac = 0\n",
    "    while capture.isOpened(): \n",
    "        ret, new_frame = capture.read()\n",
    "        if not ret:\n",
    "            break\n",
    "        \n",
    "        if init_frame is None:\n",
    "            init_frame = new_frame.copy()\n",
    "            continue\n",
    "            \n",
    "        kernel = cv2.getStructuringElement(cv2.MORPH_ELLIPSE, (5, 5))\n",
    "        diff = cv2.absdiff(init_frame, new_frame)\n",
    "        gray = cv2.cvtColor(diff, cv2.COLOR_BGR2GRAY)\n",
    "        blur = cv2.GaussianBlur(gray, (5, 5), 0)   \n",
    "        frame = cv2.adaptiveThreshold(blur, 255, cv2.ADAPTIVE_THRESH_MEAN_C, cv2.THRESH_BINARY_INV, 41,10)\n",
    "        dilated = cv2.dilate(frame, kernel, iterations=2)\n",
    "        \n",
    "        #cv2.imshow('gray', frame)\n",
    "        contours, _ = cv2.findContours(dilated, cv2.RETR_EXTERNAL, cv2.CHAIN_APPROX_SIMPLE)\n",
    "    \n",
    "        k = (float(line[3]) - float(line[1])) / (float(line[2]) - float(line[0]))\n",
    "        n = k * (float(-line[0])) + float(line[1])\n",
    "        for contour in contours:\n",
    "            (x, y, w, h) = cv2.boundingRect(contour)\n",
    "        \n",
    "            centar_rectangle_x = x + int(w / 2)\n",
    "            centar_rectangle_y = y + int(w / 2)\n",
    "\n",
    "            if detect_cross(x, y, k, n):\n",
    "                    brojac = brojac + 1\n",
    "\n",
    "        #cv2.imshow('dialated', dilated)\n",
    "    return brojac"
   ]
  },
  {
   "cell_type": "code",
   "execution_count": 271,
   "metadata": {},
   "outputs": [
    {
     "name": "stdout",
     "output_type": "stream",
     "text": [
      "[4, 14, 12, 26, 9, 18, 44, 38, 4, 29]\n",
      "7.8\n"
     ]
    }
   ],
   "source": [
    "#PRONALAZENJE LINIJE PLATOA\n",
    "path_za_detekciju_ivice = \"data/videos/video1.mp4\";\n",
    "capture = cv2.VideoCapture(path_za_detekciju_ivice)\n",
    "ret, frame = capture.read()\n",
    "x1, y1, x2, y2 = detekcija_ivice_platoa(frame)\n",
    "ivica_platforme = [x1, y1, x2, y2]\n",
    "\n",
    "#PROLAZ KROZ SVAKI FAJL\n",
    "rezultati = []\n",
    "for i in range (1,11):\n",
    "    rezultati.append(prebroj_ljude(i, ivica_platforme))\n",
    "print(rezultati)\n",
    "\n",
    "given_results = [4, 24, 17, 23, 17, 27, 29, 22, 10, 23]\n",
    "print(str(return_mae(given_results, rezultati)))"
   ]
  }
 ],
 "metadata": {
  "kernelspec": {
   "display_name": "Python 3",
   "language": "python",
   "name": "python3"
  },
  "language_info": {
   "codemirror_mode": {
    "name": "ipython",
    "version": 3
   },
   "file_extension": ".py",
   "mimetype": "text/x-python",
   "name": "python",
   "nbconvert_exporter": "python",
   "pygments_lexer": "ipython3",
   "version": "3.6.5"
  }
 },
 "nbformat": 4,
 "nbformat_minor": 2
}
